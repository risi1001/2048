{
  "nbformat": 4,
  "nbformat_minor": 0,
  "metadata": {
    "colab": {
      "name": "Untitled14.ipynb",
      "provenance": [],
      "collapsed_sections": [],
      "include_colab_link": true
    },
    "kernelspec": {
      "name": "python3",
      "display_name": "Python 3"
    }
  },
  "cells": [
    {
      "cell_type": "markdown",
      "metadata": {
        "id": "view-in-github",
        "colab_type": "text"
      },
      "source": [
        "<a href=\"https://colab.research.google.com/github/risi1006/2048/blob/master/Untitled14.ipynb\" target=\"_parent\"><img src=\"https://colab.research.google.com/assets/colab-badge.svg\" alt=\"Open In Colab\"/></a>"
      ]
    },
    {
      "cell_type": "code",
      "metadata": {
        "id": "9rN_Iwd3Otne",
        "colab_type": "code",
        "colab": {}
      },
      "source": [
        "#Web Scrapping code for NAJA sopping website\n",
        "\n",
        "#importing the required libraries\n",
        "import requests\n",
        "from bs4 import BeautifulSoup\n",
        "\n",
        "#taking the user input for the item to be searched\n",
        "item = input()\n",
        "\n",
        "#extracting html code from the websites\n",
        "resp = requests.get(\"https://www.naja.co/search?type=product&q={}\".format(item))\n",
        "soup = BeautifulSoup(resp.text, 'lxml')\n",
        "\n",
        "#extracting info of all the items from html codes\n",
        "links = soup.find_all(\"div\",{\"class\" : \"info\"})\n",
        "\n",
        "#storing the name off all the products matching with the input given by the user\n",
        "item_container = []\n",
        "\n",
        "for link in links:\n",
        "  item_container.append(link.contents[1].text)\n",
        "  \n",
        "  \n",
        "#scrapped each item from the container and stored data for every item \n",
        "for i in item_container:\n",
        "  pas = str(i)\n",
        "  \n",
        "  #changed all the letters in lowercase for better searching\n",
        "  pas = pas.lower()\n",
        "  \n",
        "  #replaced all the whitespaces with \"-\" for better searching \n",
        "  pas = pas.replace(\" \",\"-\")\n",
        "  \n",
        "  #extraced the html code for each of the item stored in the container\n",
        "  resp = requests.get(\"https://www.naja.co/products/{}\".format(pas))\n",
        "  soup = BeautifulSoup(resp.text, 'lxml')\n",
        "  \n",
        "  #storing the size of the each item presented in the container\n",
        "  item_size = soup.find_all(\"ul\",{\"class\" : \"size option-list options\"})\n",
        "  for sz in item_size:\n",
        "    r = sz.text.split()\n",
        "    for k in r:\n",
        "      print(k,end=\" \")\n",
        "  \n",
        "  "
      ],
      "execution_count": 0,
      "outputs": []
    }
  ]
}