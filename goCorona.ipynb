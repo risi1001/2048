{
  "nbformat": 4,
  "nbformat_minor": 0,
  "metadata": {
    "colab": {
      "name": "goCorona.ipynb",
      "provenance": [],
      "authorship_tag": "ABX9TyO/j1wk7PjOpyGKIHxFZt24",
      "include_colab_link": true
    },
    "kernelspec": {
      "name": "python3",
      "display_name": "Python 3"
    }
  },
  "cells": [
    {
      "cell_type": "markdown",
      "metadata": {
        "id": "view-in-github",
        "colab_type": "text"
      },
      "source": [
        "<a href=\"https://colab.research.google.com/github/risi1006/2048/blob/master/goCorona.ipynb\" target=\"_parent\"><img src=\"https://colab.research.google.com/assets/colab-badge.svg\" alt=\"Open In Colab\"/></a>"
      ]
    },
    {
      "cell_type": "code",
      "metadata": {
        "id": "9Rt5LRUQ8hJF",
        "colab_type": "code",
        "colab": {
          "base_uri": "https://localhost:8080/",
          "height": 191
        },
        "outputId": "a111a33d-4e19-4cf5-c83a-1742a422580e"
      },
      "source": [
        "import praw\n",
        "\n",
        "reddit = praw.Reddit(user_agent='risi',\n",
        "                     client_id='********', client_secret=\"********\",\n",
        "                     username='risi1001', password='********')\n",
        "\n",
        "subreddit = reddit.subreddit('corona')\n",
        "\n",
        "hot_corona = subreddit.hot(limit = 10)\n",
        "\n",
        "for submission in hot_corona:\n",
        "\tprint(submission.title)"
      ],
      "execution_count": 4,
      "outputs": [
        {
          "output_type": "stream",
          "text": [
            "Just a reminder that this subreddit is for the City of Corona, CA and related topics\n",
            "No one is out in Spain and these pigeons are looking for food. Anyone who sees them should throw out food for them\n",
            "[Serious] How can I stay safe in an airport\n",
            "If anyone needs supplies... Toilet paper, food, dairy, medical... I work at Target and we are allowing employees to shop 1 hour before open.\n",
            "Skyline trail packed\n",
            "Why is the farmers market still going on?\n",
            "Two things happening.\n",
            "First case confirmed in the city of Corona\n",
            "This actually applies to this group 😂\n",
            "I guess CNUSD will be staying closed until May? Sounds like we will have to start taking online classes\n"
          ],
          "name": "stdout"
        }
      ]
    }
  ]
}